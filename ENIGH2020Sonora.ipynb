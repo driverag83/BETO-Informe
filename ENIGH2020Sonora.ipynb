{
  "nbformat": 4,
  "nbformat_minor": 0,
  "metadata": {
    "colab": {
      "name": "ENIGH2020Sonora.ipynb",
      "provenance": [],
      "collapsed_sections": [],
      "authorship_tag": "ABX9TyMf4D8JjBdyvuhHPzf4M688",
      "include_colab_link": true
    },
    "kernelspec": {
      "name": "python3",
      "display_name": "Python 3"
    },
    "language_info": {
      "name": "python"
    }
  },
  "cells": [
    {
      "cell_type": "markdown",
      "metadata": {
        "id": "view-in-github",
        "colab_type": "text"
      },
      "source": [
        "<a href=\"https://colab.research.google.com/github/driverag83/BETO-Informe/blob/main/ENIGH2020Sonora.ipynb\" target=\"_parent\"><img src=\"https://colab.research.google.com/assets/colab-badge.svg\" alt=\"Open In Colab\"/></a>"
      ]
    },
    {
      "cell_type": "markdown",
      "metadata": {
        "id": "LPxjGFbdv2HG"
      },
      "source": [
        "Cargar paquetes iniciales"
      ]
    },
    {
      "cell_type": "code",
      "metadata": {
        "colab": {
          "base_uri": "https://localhost:8080/"
        },
        "id": "ob8o4jgpq08e",
        "outputId": "49e4e871-58fc-4212-8ba1-99c2b8bbfec4"
      },
      "source": [
        "pip install geopandas"
      ],
      "execution_count": 1,
      "outputs": [
        {
          "output_type": "stream",
          "text": [
            "Collecting geopandas\n",
            "  Downloading geopandas-0.9.0-py2.py3-none-any.whl (994 kB)\n",
            "\u001b[K     |████████████████████████████████| 994 kB 8.8 MB/s \n",
            "\u001b[?25hCollecting fiona>=1.8\n",
            "  Downloading Fiona-1.8.20-cp37-cp37m-manylinux1_x86_64.whl (15.4 MB)\n",
            "\u001b[K     |████████████████████████████████| 15.4 MB 33 kB/s \n",
            "\u001b[?25hRequirement already satisfied: pandas>=0.24.0 in /usr/local/lib/python3.7/dist-packages (from geopandas) (1.1.5)\n",
            "Requirement already satisfied: shapely>=1.6 in /usr/local/lib/python3.7/dist-packages (from geopandas) (1.7.1)\n",
            "Collecting pyproj>=2.2.0\n",
            "  Downloading pyproj-3.1.0-cp37-cp37m-manylinux2010_x86_64.whl (6.6 MB)\n",
            "\u001b[K     |████████████████████████████████| 6.6 MB 37.0 MB/s \n",
            "\u001b[?25hCollecting cligj>=0.5\n",
            "  Downloading cligj-0.7.2-py3-none-any.whl (7.1 kB)\n",
            "Requirement already satisfied: certifi in /usr/local/lib/python3.7/dist-packages (from fiona>=1.8->geopandas) (2021.5.30)\n",
            "Requirement already satisfied: setuptools in /usr/local/lib/python3.7/dist-packages (from fiona>=1.8->geopandas) (57.2.0)\n",
            "Requirement already satisfied: click>=4.0 in /usr/local/lib/python3.7/dist-packages (from fiona>=1.8->geopandas) (7.1.2)\n",
            "Requirement already satisfied: six>=1.7 in /usr/local/lib/python3.7/dist-packages (from fiona>=1.8->geopandas) (1.15.0)\n",
            "Collecting click-plugins>=1.0\n",
            "  Downloading click_plugins-1.1.1-py2.py3-none-any.whl (7.5 kB)\n",
            "Requirement already satisfied: attrs>=17 in /usr/local/lib/python3.7/dist-packages (from fiona>=1.8->geopandas) (21.2.0)\n",
            "Collecting munch\n",
            "  Downloading munch-2.5.0-py2.py3-none-any.whl (10 kB)\n",
            "Requirement already satisfied: numpy>=1.15.4 in /usr/local/lib/python3.7/dist-packages (from pandas>=0.24.0->geopandas) (1.19.5)\n",
            "Requirement already satisfied: python-dateutil>=2.7.3 in /usr/local/lib/python3.7/dist-packages (from pandas>=0.24.0->geopandas) (2.8.1)\n",
            "Requirement already satisfied: pytz>=2017.2 in /usr/local/lib/python3.7/dist-packages (from pandas>=0.24.0->geopandas) (2018.9)\n",
            "Installing collected packages: munch, cligj, click-plugins, pyproj, fiona, geopandas\n",
            "Successfully installed click-plugins-1.1.1 cligj-0.7.2 fiona-1.8.20 geopandas-0.9.0 munch-2.5.0 pyproj-3.1.0\n"
          ],
          "name": "stdout"
        }
      ]
    },
    {
      "cell_type": "code",
      "metadata": {
        "id": "wb0B4k36OiSA"
      },
      "source": [
        "import pandas as pd\n",
        "from urllib.request import urlopen\n",
        "from zipfile import ZipFile\n",
        "from io import BytesIO\n",
        "import plotly.express as px\n",
        "import matplotlib.pyplot as plt\n",
        "import geopandas as gpd\n",
        "import json"
      ],
      "execution_count": 2,
      "outputs": []
    },
    {
      "cell_type": "markdown",
      "metadata": {
        "id": "O9uoJT29vtP_"
      },
      "source": [
        "Definir URL para bajar la información de acuerdo a la encuesta que estés buscando."
      ]
    },
    {
      "cell_type": "code",
      "metadata": {
        "id": "-f2tqSM5QDv-"
      },
      "source": [
        "url = \"https://www.inegi.org.mx/contenidos/programas/enigh/nc/2020/microdatos/enigh2020_ns_viviendas_csv.zip\"\n",
        "url2 = 'https://data.humdata.org/dataset/9721eaf0-5663-4137-b3a2-c21dc8fac15a/resource/f151b1c1-1353-4f57-bdb2-b1b1c18a1fd1/download/mex_admbnda_govmex_20210618_shp.zip'"
      ],
      "execution_count": 3,
      "outputs": []
    },
    {
      "cell_type": "markdown",
      "metadata": {
        "id": "r9qIPbMKv7HB"
      },
      "source": [
        "Abrir URL y extraer archivo zip"
      ]
    },
    {
      "cell_type": "code",
      "metadata": {
        "id": "mXu0XdxsSAy_"
      },
      "source": [
        "resp = urlopen(url)\n",
        "data = urlopen(url2)\n",
        "zipfile = ZipFile(BytesIO(resp.read()))\n",
        "zipfile2 = ZipFile(BytesIO(data.read()))\n",
        "zipfile.extractall()\n",
        "zipfile2.extractall()"
      ],
      "execution_count": 4,
      "outputs": []
    },
    {
      "cell_type": "markdown",
      "metadata": {
        "id": "BouEUAG1wC3v"
      },
      "source": [
        "Definir Dataframe leyendo archivo csv. Ojo es necesario cargar todos como tipo \"string\" de lo contrario tendremos problemas más adelante a la hora de buscar los estados."
      ]
    },
    {
      "cell_type": "code",
      "metadata": {
        "id": "xmM6CgoXUSWi"
      },
      "source": [
        "df =pd.read_csv(\"viviendas.csv\", dtype = str)"
      ],
      "execution_count": 5,
      "outputs": []
    },
    {
      "cell_type": "markdown",
      "metadata": {
        "id": "hHSYUv_Fg9SE"
      },
      "source": [
        "Esta base de datos cuenta con 64 variables y 87,754 entradas de datos para cada variable"
      ]
    },
    {
      "cell_type": "code",
      "metadata": {
        "colab": {
          "base_uri": "https://localhost:8080/"
        },
        "id": "DNIudZjLUVnf",
        "outputId": "da815656-e578-40c8-b58f-6ea6ba572ea1"
      },
      "source": [
        "df.head"
      ],
      "execution_count": 6,
      "outputs": [
        {
          "output_type": "execute_result",
          "data": {
            "text/plain": [
              "<bound method NDFrame.head of          folioviv tipo_viv mat_pared  ...      upm factor procaptar\n",
              "0      0100013605        2         8  ...  0000001    190         0\n",
              "1      0100013606        1         8  ...  0000001    190         0\n",
              "2      0100017801        1         8  ...  0000002    189         0\n",
              "3      0100017802        1         8  ...  0000002    189         0\n",
              "4      0100017803        1         8  ...  0000002    189         0\n",
              "...           ...      ...       ...  ...      ...    ...       ...\n",
              "87749  3260770714        1         8  ...  0010149    128         0\n",
              "87750  3260770715        1         8  ...  0010149    128         0\n",
              "87751  3260770716        1         7  ...  0010149    128         0\n",
              "87752  3260770717        1         7  ...  0010149    128         0\n",
              "87753  3260770718        1         7  ...  0010149    128         0\n",
              "\n",
              "[87754 rows x 64 columns]>"
            ]
          },
          "metadata": {
            "tags": []
          },
          "execution_count": 6
        }
      ]
    },
    {
      "cell_type": "markdown",
      "metadata": {
        "id": "VEiVj0FKwIH7"
      },
      "source": [
        "Para conocer cuales son las variables de esta base de datos enlistamos los nombres de columnas"
      ]
    },
    {
      "cell_type": "code",
      "metadata": {
        "colab": {
          "base_uri": "https://localhost:8080/"
        },
        "id": "5RhBK_3SUxWv",
        "outputId": "550bcf4d-6a61-40e9-ad4d-ab612419db91"
      },
      "source": [
        "for col in df.columns:\n",
        "  print(col)"
      ],
      "execution_count": 7,
      "outputs": [
        {
          "output_type": "stream",
          "text": [
            "folioviv\n",
            "tipo_viv\n",
            "mat_pared\n",
            "mat_techos\n",
            "mat_pisos\n",
            "antiguedad\n",
            "antigua_ne\n",
            "cocina\n",
            "cocina_dor\n",
            "cuart_dorm\n",
            "num_cuarto\n",
            "disp_agua\n",
            "dotac_agua\n",
            "excusado\n",
            "uso_compar\n",
            "sanit_agua\n",
            "biodigest\n",
            "bano_comp\n",
            "bano_excus\n",
            "bano_regad\n",
            "drenaje\n",
            "disp_elect\n",
            "focos_inca\n",
            "focos_ahor\n",
            "combustible\n",
            "estufa_chi\n",
            "eli_basura\n",
            "tenencia\n",
            "renta\n",
            "estim_pago\n",
            "pago_viv\n",
            "pago_mesp\n",
            "tipo_adqui\n",
            "viv_usada\n",
            "tipo_finan\n",
            "num_dueno1\n",
            "hog_dueno1\n",
            "num_dueno2\n",
            "hog_dueno2\n",
            "escrituras\n",
            "lavadero\n",
            "fregadero\n",
            "regadera\n",
            "tinaco_azo\n",
            "cisterna\n",
            "pileta\n",
            "calent_sol\n",
            "calent_gas\n",
            "medidor_luz\n",
            "bomba_agua\n",
            "tanque_gas\n",
            "aire_acond\n",
            "calefacc\n",
            "tot_resid\n",
            "tot_hom\n",
            "tot_muj\n",
            "tot_hog\n",
            "ubica_geo\n",
            "tam_loc\n",
            "est_socio\n",
            "est_dis\n",
            "upm\n",
            "factor\n",
            "procaptar\n"
          ],
          "name": "stdout"
        }
      ]
    },
    {
      "cell_type": "markdown",
      "metadata": {
        "id": "Dfc-1ksChLcX"
      },
      "source": [
        "Es importante tener a la mano el archivo de diccionario en donde podremos ver que está midiendo cada una de las variables.\n",
        "Buscamos además conocer los datos para el estado de Sonora. En ese caso vamos a buscar el diccionario de las entidades federativas y utilizar la variable \"folioviv\" para en base a su construcción obtener en este caso los datos para el estado de Sonora. Esto se puede utilizar para los diferentes estados o hacer el análisis de forma nacional."
      ]
    },
    {
      "cell_type": "markdown",
      "metadata": {
        "id": "DZMNPGBtwLCe"
      },
      "source": [
        "Creamos al nueva variable \"estado\", esta se crea tomando los dos primeros números de la columna para identificar la entidad federativa."
      ]
    },
    {
      "cell_type": "code",
      "metadata": {
        "id": "SCaXRZNKZkqj"
      },
      "source": [
        "df['estado'] = df.ubica_geo.str[:2]"
      ],
      "execution_count": 8,
      "outputs": []
    },
    {
      "cell_type": "markdown",
      "metadata": {
        "id": "9-KG42IMh0PC"
      },
      "source": [
        "Para fines de este ejercicio buscamos los datos para el estado de Sonora. El número 26 en nuestro diccionario de entidades federativas. Creamos un nuevo dataframe solo con la información del estado de interés."
      ]
    },
    {
      "cell_type": "code",
      "metadata": {
        "id": "Vi4yPXx5gSbS"
      },
      "source": [
        "sonora = df.loc[df['estado'] == '26']"
      ],
      "execution_count": 9,
      "outputs": []
    },
    {
      "cell_type": "markdown",
      "metadata": {
        "id": "wAbUQ53dgN-L"
      },
      "source": [
        "Podemos observar que hay 2,396 entradas para Sonora en esta base de datos"
      ]
    },
    {
      "cell_type": "code",
      "metadata": {
        "colab": {
          "base_uri": "https://localhost:8080/",
          "height": 439
        },
        "id": "Ht1EDknqgsUn",
        "outputId": "301697d7-4c7a-4838-c90a-5bb038e10e25"
      },
      "source": [
        "sonora"
      ],
      "execution_count": 10,
      "outputs": [
        {
          "output_type": "execute_result",
          "data": {
            "text/html": [
              "<div>\n",
              "<style scoped>\n",
              "    .dataframe tbody tr th:only-of-type {\n",
              "        vertical-align: middle;\n",
              "    }\n",
              "\n",
              "    .dataframe tbody tr th {\n",
              "        vertical-align: top;\n",
              "    }\n",
              "\n",
              "    .dataframe thead th {\n",
              "        text-align: right;\n",
              "    }\n",
              "</style>\n",
              "<table border=\"1\" class=\"dataframe\">\n",
              "  <thead>\n",
              "    <tr style=\"text-align: right;\">\n",
              "      <th></th>\n",
              "      <th>folioviv</th>\n",
              "      <th>tipo_viv</th>\n",
              "      <th>mat_pared</th>\n",
              "      <th>mat_techos</th>\n",
              "      <th>mat_pisos</th>\n",
              "      <th>antiguedad</th>\n",
              "      <th>antigua_ne</th>\n",
              "      <th>cocina</th>\n",
              "      <th>cocina_dor</th>\n",
              "      <th>cuart_dorm</th>\n",
              "      <th>num_cuarto</th>\n",
              "      <th>disp_agua</th>\n",
              "      <th>dotac_agua</th>\n",
              "      <th>excusado</th>\n",
              "      <th>uso_compar</th>\n",
              "      <th>sanit_agua</th>\n",
              "      <th>biodigest</th>\n",
              "      <th>bano_comp</th>\n",
              "      <th>bano_excus</th>\n",
              "      <th>bano_regad</th>\n",
              "      <th>drenaje</th>\n",
              "      <th>disp_elect</th>\n",
              "      <th>focos_inca</th>\n",
              "      <th>focos_ahor</th>\n",
              "      <th>combustible</th>\n",
              "      <th>estufa_chi</th>\n",
              "      <th>eli_basura</th>\n",
              "      <th>tenencia</th>\n",
              "      <th>renta</th>\n",
              "      <th>estim_pago</th>\n",
              "      <th>pago_viv</th>\n",
              "      <th>pago_mesp</th>\n",
              "      <th>tipo_adqui</th>\n",
              "      <th>viv_usada</th>\n",
              "      <th>tipo_finan</th>\n",
              "      <th>num_dueno1</th>\n",
              "      <th>hog_dueno1</th>\n",
              "      <th>num_dueno2</th>\n",
              "      <th>hog_dueno2</th>\n",
              "      <th>escrituras</th>\n",
              "      <th>lavadero</th>\n",
              "      <th>fregadero</th>\n",
              "      <th>regadera</th>\n",
              "      <th>tinaco_azo</th>\n",
              "      <th>cisterna</th>\n",
              "      <th>pileta</th>\n",
              "      <th>calent_sol</th>\n",
              "      <th>calent_gas</th>\n",
              "      <th>medidor_luz</th>\n",
              "      <th>bomba_agua</th>\n",
              "      <th>tanque_gas</th>\n",
              "      <th>aire_acond</th>\n",
              "      <th>calefacc</th>\n",
              "      <th>tot_resid</th>\n",
              "      <th>tot_hom</th>\n",
              "      <th>tot_muj</th>\n",
              "      <th>tot_hog</th>\n",
              "      <th>ubica_geo</th>\n",
              "      <th>tam_loc</th>\n",
              "      <th>est_socio</th>\n",
              "      <th>est_dis</th>\n",
              "      <th>upm</th>\n",
              "      <th>factor</th>\n",
              "      <th>procaptar</th>\n",
              "      <th>estado</th>\n",
              "    </tr>\n",
              "  </thead>\n",
              "  <tbody>\n",
              "    <tr>\n",
              "      <th>70881</th>\n",
              "      <td>2600002401</td>\n",
              "      <td>1</td>\n",
              "      <td>8</td>\n",
              "      <td>04</td>\n",
              "      <td>2</td>\n",
              "      <td>50</td>\n",
              "      <td></td>\n",
              "      <td>1</td>\n",
              "      <td>2</td>\n",
              "      <td>1</td>\n",
              "      <td>4</td>\n",
              "      <td>1</td>\n",
              "      <td>1</td>\n",
              "      <td>1</td>\n",
              "      <td>2</td>\n",
              "      <td>2</td>\n",
              "      <td>2</td>\n",
              "      <td>1</td>\n",
              "      <td>0</td>\n",
              "      <td>0</td>\n",
              "      <td>1</td>\n",
              "      <td>1</td>\n",
              "      <td>4</td>\n",
              "      <td>0</td>\n",
              "      <td>5</td>\n",
              "      <td></td>\n",
              "      <td>1</td>\n",
              "      <td>4</td>\n",
              "      <td></td>\n",
              "      <td>800</td>\n",
              "      <td></td>\n",
              "      <td></td>\n",
              "      <td>4</td>\n",
              "      <td></td>\n",
              "      <td></td>\n",
              "      <td>01</td>\n",
              "      <td>1</td>\n",
              "      <td></td>\n",
              "      <td></td>\n",
              "      <td>2</td>\n",
              "      <td>1</td>\n",
              "      <td>2</td>\n",
              "      <td>1</td>\n",
              "      <td>2</td>\n",
              "      <td>2</td>\n",
              "      <td>2</td>\n",
              "      <td>2</td>\n",
              "      <td>2</td>\n",
              "      <td>1</td>\n",
              "      <td>2</td>\n",
              "      <td>2</td>\n",
              "      <td>1</td>\n",
              "      <td>2</td>\n",
              "      <td>1</td>\n",
              "      <td>1</td>\n",
              "      <td>0</td>\n",
              "      <td>1</td>\n",
              "      <td>26018</td>\n",
              "      <td>1</td>\n",
              "      <td>2</td>\n",
              "      <td>420</td>\n",
              "      <td>0008232</td>\n",
              "      <td>468</td>\n",
              "      <td>0</td>\n",
              "      <td>26</td>\n",
              "    </tr>\n",
              "    <tr>\n",
              "      <th>70882</th>\n",
              "      <td>2600002402</td>\n",
              "      <td>1</td>\n",
              "      <td>8</td>\n",
              "      <td>10</td>\n",
              "      <td>3</td>\n",
              "      <td>21</td>\n",
              "      <td></td>\n",
              "      <td>1</td>\n",
              "      <td>2</td>\n",
              "      <td>3</td>\n",
              "      <td>5</td>\n",
              "      <td>1</td>\n",
              "      <td>1</td>\n",
              "      <td>1</td>\n",
              "      <td>2</td>\n",
              "      <td>1</td>\n",
              "      <td>2</td>\n",
              "      <td>1</td>\n",
              "      <td>0</td>\n",
              "      <td>0</td>\n",
              "      <td>1</td>\n",
              "      <td>1</td>\n",
              "      <td>0</td>\n",
              "      <td>7</td>\n",
              "      <td>3</td>\n",
              "      <td></td>\n",
              "      <td>1</td>\n",
              "      <td>4</td>\n",
              "      <td></td>\n",
              "      <td>1000</td>\n",
              "      <td></td>\n",
              "      <td></td>\n",
              "      <td>2</td>\n",
              "      <td></td>\n",
              "      <td>5</td>\n",
              "      <td>01</td>\n",
              "      <td>1</td>\n",
              "      <td>02</td>\n",
              "      <td>1</td>\n",
              "      <td>1</td>\n",
              "      <td>1</td>\n",
              "      <td>1</td>\n",
              "      <td>1</td>\n",
              "      <td>2</td>\n",
              "      <td>2</td>\n",
              "      <td>1</td>\n",
              "      <td>2</td>\n",
              "      <td>2</td>\n",
              "      <td>1</td>\n",
              "      <td>2</td>\n",
              "      <td>2</td>\n",
              "      <td>1</td>\n",
              "      <td>2</td>\n",
              "      <td>3</td>\n",
              "      <td>2</td>\n",
              "      <td>1</td>\n",
              "      <td>1</td>\n",
              "      <td>26018</td>\n",
              "      <td>1</td>\n",
              "      <td>2</td>\n",
              "      <td>420</td>\n",
              "      <td>0008232</td>\n",
              "      <td>468</td>\n",
              "      <td>0</td>\n",
              "      <td>26</td>\n",
              "    </tr>\n",
              "    <tr>\n",
              "      <th>70883</th>\n",
              "      <td>2600002403</td>\n",
              "      <td>1</td>\n",
              "      <td>8</td>\n",
              "      <td>10</td>\n",
              "      <td>2</td>\n",
              "      <td>4</td>\n",
              "      <td></td>\n",
              "      <td>1</td>\n",
              "      <td>2</td>\n",
              "      <td>1</td>\n",
              "      <td>2</td>\n",
              "      <td>7</td>\n",
              "      <td></td>\n",
              "      <td>1</td>\n",
              "      <td>2</td>\n",
              "      <td>3</td>\n",
              "      <td>2</td>\n",
              "      <td>0</td>\n",
              "      <td>1</td>\n",
              "      <td>0</td>\n",
              "      <td>5</td>\n",
              "      <td>4</td>\n",
              "      <td>0</td>\n",
              "      <td>3</td>\n",
              "      <td>3</td>\n",
              "      <td></td>\n",
              "      <td>1</td>\n",
              "      <td>4</td>\n",
              "      <td></td>\n",
              "      <td>600</td>\n",
              "      <td></td>\n",
              "      <td></td>\n",
              "      <td>3</td>\n",
              "      <td></td>\n",
              "      <td>5</td>\n",
              "      <td>01</td>\n",
              "      <td>1</td>\n",
              "      <td></td>\n",
              "      <td></td>\n",
              "      <td>3</td>\n",
              "      <td>1</td>\n",
              "      <td>2</td>\n",
              "      <td>2</td>\n",
              "      <td>2</td>\n",
              "      <td>2</td>\n",
              "      <td>2</td>\n",
              "      <td>2</td>\n",
              "      <td>2</td>\n",
              "      <td>2</td>\n",
              "      <td>2</td>\n",
              "      <td>2</td>\n",
              "      <td>1</td>\n",
              "      <td>2</td>\n",
              "      <td>3</td>\n",
              "      <td>2</td>\n",
              "      <td>1</td>\n",
              "      <td>1</td>\n",
              "      <td>26018</td>\n",
              "      <td>1</td>\n",
              "      <td>2</td>\n",
              "      <td>420</td>\n",
              "      <td>0008232</td>\n",
              "      <td>468</td>\n",
              "      <td>0</td>\n",
              "      <td>26</td>\n",
              "    </tr>\n",
              "    <tr>\n",
              "      <th>70884</th>\n",
              "      <td>2600002405</td>\n",
              "      <td>1</td>\n",
              "      <td>8</td>\n",
              "      <td>10</td>\n",
              "      <td>2</td>\n",
              "      <td>20</td>\n",
              "      <td></td>\n",
              "      <td>1</td>\n",
              "      <td>2</td>\n",
              "      <td>2</td>\n",
              "      <td>4</td>\n",
              "      <td>1</td>\n",
              "      <td>1</td>\n",
              "      <td>1</td>\n",
              "      <td>2</td>\n",
              "      <td>1</td>\n",
              "      <td>2</td>\n",
              "      <td>1</td>\n",
              "      <td>0</td>\n",
              "      <td>0</td>\n",
              "      <td>1</td>\n",
              "      <td>1</td>\n",
              "      <td>0</td>\n",
              "      <td>6</td>\n",
              "      <td>3</td>\n",
              "      <td></td>\n",
              "      <td>1</td>\n",
              "      <td>4</td>\n",
              "      <td></td>\n",
              "      <td>1500</td>\n",
              "      <td></td>\n",
              "      <td></td>\n",
              "      <td>3</td>\n",
              "      <td></td>\n",
              "      <td>5</td>\n",
              "      <td>01</td>\n",
              "      <td>1</td>\n",
              "      <td></td>\n",
              "      <td></td>\n",
              "      <td>1</td>\n",
              "      <td>1</td>\n",
              "      <td>1</td>\n",
              "      <td>1</td>\n",
              "      <td>2</td>\n",
              "      <td>2</td>\n",
              "      <td>2</td>\n",
              "      <td>2</td>\n",
              "      <td>2</td>\n",
              "      <td>1</td>\n",
              "      <td>2</td>\n",
              "      <td>2</td>\n",
              "      <td>1</td>\n",
              "      <td>2</td>\n",
              "      <td>2</td>\n",
              "      <td>2</td>\n",
              "      <td>0</td>\n",
              "      <td>1</td>\n",
              "      <td>26018</td>\n",
              "      <td>1</td>\n",
              "      <td>2</td>\n",
              "      <td>420</td>\n",
              "      <td>0008232</td>\n",
              "      <td>468</td>\n",
              "      <td>0</td>\n",
              "      <td>26</td>\n",
              "    </tr>\n",
              "    <tr>\n",
              "      <th>70885</th>\n",
              "      <td>2600002406</td>\n",
              "      <td>1</td>\n",
              "      <td>8</td>\n",
              "      <td>10</td>\n",
              "      <td>2</td>\n",
              "      <td>15</td>\n",
              "      <td></td>\n",
              "      <td>1</td>\n",
              "      <td>2</td>\n",
              "      <td>2</td>\n",
              "      <td>4</td>\n",
              "      <td>1</td>\n",
              "      <td>1</td>\n",
              "      <td>1</td>\n",
              "      <td>2</td>\n",
              "      <td>1</td>\n",
              "      <td>2</td>\n",
              "      <td>1</td>\n",
              "      <td>0</td>\n",
              "      <td>0</td>\n",
              "      <td>1</td>\n",
              "      <td>1</td>\n",
              "      <td>0</td>\n",
              "      <td>6</td>\n",
              "      <td>3</td>\n",
              "      <td></td>\n",
              "      <td>1</td>\n",
              "      <td>4</td>\n",
              "      <td></td>\n",
              "      <td>1200</td>\n",
              "      <td></td>\n",
              "      <td></td>\n",
              "      <td>2</td>\n",
              "      <td></td>\n",
              "      <td>5</td>\n",
              "      <td>01</td>\n",
              "      <td>1</td>\n",
              "      <td></td>\n",
              "      <td></td>\n",
              "      <td>1</td>\n",
              "      <td>1</td>\n",
              "      <td>1</td>\n",
              "      <td>1</td>\n",
              "      <td>2</td>\n",
              "      <td>2</td>\n",
              "      <td>2</td>\n",
              "      <td>2</td>\n",
              "      <td>2</td>\n",
              "      <td>1</td>\n",
              "      <td>2</td>\n",
              "      <td>2</td>\n",
              "      <td>1</td>\n",
              "      <td>2</td>\n",
              "      <td>1</td>\n",
              "      <td>1</td>\n",
              "      <td>0</td>\n",
              "      <td>1</td>\n",
              "      <td>26018</td>\n",
              "      <td>1</td>\n",
              "      <td>2</td>\n",
              "      <td>420</td>\n",
              "      <td>0008232</td>\n",
              "      <td>468</td>\n",
              "      <td>0</td>\n",
              "      <td>26</td>\n",
              "    </tr>\n",
              "    <tr>\n",
              "      <th>...</th>\n",
              "      <td>...</td>\n",
              "      <td>...</td>\n",
              "      <td>...</td>\n",
              "      <td>...</td>\n",
              "      <td>...</td>\n",
              "      <td>...</td>\n",
              "      <td>...</td>\n",
              "      <td>...</td>\n",
              "      <td>...</td>\n",
              "      <td>...</td>\n",
              "      <td>...</td>\n",
              "      <td>...</td>\n",
              "      <td>...</td>\n",
              "      <td>...</td>\n",
              "      <td>...</td>\n",
              "      <td>...</td>\n",
              "      <td>...</td>\n",
              "      <td>...</td>\n",
              "      <td>...</td>\n",
              "      <td>...</td>\n",
              "      <td>...</td>\n",
              "      <td>...</td>\n",
              "      <td>...</td>\n",
              "      <td>...</td>\n",
              "      <td>...</td>\n",
              "      <td>...</td>\n",
              "      <td>...</td>\n",
              "      <td>...</td>\n",
              "      <td>...</td>\n",
              "      <td>...</td>\n",
              "      <td>...</td>\n",
              "      <td>...</td>\n",
              "      <td>...</td>\n",
              "      <td>...</td>\n",
              "      <td>...</td>\n",
              "      <td>...</td>\n",
              "      <td>...</td>\n",
              "      <td>...</td>\n",
              "      <td>...</td>\n",
              "      <td>...</td>\n",
              "      <td>...</td>\n",
              "      <td>...</td>\n",
              "      <td>...</td>\n",
              "      <td>...</td>\n",
              "      <td>...</td>\n",
              "      <td>...</td>\n",
              "      <td>...</td>\n",
              "      <td>...</td>\n",
              "      <td>...</td>\n",
              "      <td>...</td>\n",
              "      <td>...</td>\n",
              "      <td>...</td>\n",
              "      <td>...</td>\n",
              "      <td>...</td>\n",
              "      <td>...</td>\n",
              "      <td>...</td>\n",
              "      <td>...</td>\n",
              "      <td>...</td>\n",
              "      <td>...</td>\n",
              "      <td>...</td>\n",
              "      <td>...</td>\n",
              "      <td>...</td>\n",
              "      <td>...</td>\n",
              "      <td>...</td>\n",
              "      <td>...</td>\n",
              "    </tr>\n",
              "    <tr>\n",
              "      <th>73272</th>\n",
              "      <td>2660748901</td>\n",
              "      <td>1</td>\n",
              "      <td>8</td>\n",
              "      <td>03</td>\n",
              "      <td>3</td>\n",
              "      <td>9</td>\n",
              "      <td></td>\n",
              "      <td>1</td>\n",
              "      <td>2</td>\n",
              "      <td>2</td>\n",
              "      <td>4</td>\n",
              "      <td>1</td>\n",
              "      <td>1</td>\n",
              "      <td>1</td>\n",
              "      <td>2</td>\n",
              "      <td>1</td>\n",
              "      <td>2</td>\n",
              "      <td>1</td>\n",
              "      <td>0</td>\n",
              "      <td>0</td>\n",
              "      <td>1</td>\n",
              "      <td>1</td>\n",
              "      <td>0</td>\n",
              "      <td>6</td>\n",
              "      <td>3</td>\n",
              "      <td></td>\n",
              "      <td>1</td>\n",
              "      <td>4</td>\n",
              "      <td></td>\n",
              "      <td>1000</td>\n",
              "      <td></td>\n",
              "      <td></td>\n",
              "      <td>3</td>\n",
              "      <td></td>\n",
              "      <td>5</td>\n",
              "      <td>01</td>\n",
              "      <td>1</td>\n",
              "      <td>02</td>\n",
              "      <td>1</td>\n",
              "      <td>1</td>\n",
              "      <td>2</td>\n",
              "      <td>1</td>\n",
              "      <td>1</td>\n",
              "      <td>2</td>\n",
              "      <td>2</td>\n",
              "      <td>2</td>\n",
              "      <td>2</td>\n",
              "      <td>1</td>\n",
              "      <td>1</td>\n",
              "      <td>2</td>\n",
              "      <td>2</td>\n",
              "      <td>1</td>\n",
              "      <td>2</td>\n",
              "      <td>5</td>\n",
              "      <td>2</td>\n",
              "      <td>3</td>\n",
              "      <td>1</td>\n",
              "      <td>26067</td>\n",
              "      <td>4</td>\n",
              "      <td>2</td>\n",
              "      <td>441</td>\n",
              "      <td>0008542</td>\n",
              "      <td>179</td>\n",
              "      <td>0</td>\n",
              "      <td>26</td>\n",
              "    </tr>\n",
              "    <tr>\n",
              "      <th>73273</th>\n",
              "      <td>2660748902</td>\n",
              "      <td>1</td>\n",
              "      <td>8</td>\n",
              "      <td>03</td>\n",
              "      <td>2</td>\n",
              "      <td>30</td>\n",
              "      <td></td>\n",
              "      <td>1</td>\n",
              "      <td>2</td>\n",
              "      <td>4</td>\n",
              "      <td>6</td>\n",
              "      <td>1</td>\n",
              "      <td>1</td>\n",
              "      <td>1</td>\n",
              "      <td>2</td>\n",
              "      <td>1</td>\n",
              "      <td>2</td>\n",
              "      <td>1</td>\n",
              "      <td>0</td>\n",
              "      <td>0</td>\n",
              "      <td>1</td>\n",
              "      <td>1</td>\n",
              "      <td>0</td>\n",
              "      <td>7</td>\n",
              "      <td>3</td>\n",
              "      <td></td>\n",
              "      <td>1</td>\n",
              "      <td>4</td>\n",
              "      <td></td>\n",
              "      <td>2000</td>\n",
              "      <td></td>\n",
              "      <td></td>\n",
              "      <td>2</td>\n",
              "      <td></td>\n",
              "      <td>5</td>\n",
              "      <td>01</td>\n",
              "      <td>1</td>\n",
              "      <td></td>\n",
              "      <td></td>\n",
              "      <td>1</td>\n",
              "      <td>1</td>\n",
              "      <td>1</td>\n",
              "      <td>1</td>\n",
              "      <td>1</td>\n",
              "      <td>2</td>\n",
              "      <td>2</td>\n",
              "      <td>2</td>\n",
              "      <td>1</td>\n",
              "      <td>1</td>\n",
              "      <td>2</td>\n",
              "      <td>2</td>\n",
              "      <td>1</td>\n",
              "      <td>2</td>\n",
              "      <td>2</td>\n",
              "      <td>1</td>\n",
              "      <td>1</td>\n",
              "      <td>1</td>\n",
              "      <td>26067</td>\n",
              "      <td>4</td>\n",
              "      <td>2</td>\n",
              "      <td>441</td>\n",
              "      <td>0008542</td>\n",
              "      <td>179</td>\n",
              "      <td>0</td>\n",
              "      <td>26</td>\n",
              "    </tr>\n",
              "    <tr>\n",
              "      <th>73274</th>\n",
              "      <td>2660748903</td>\n",
              "      <td>1</td>\n",
              "      <td>7</td>\n",
              "      <td>03</td>\n",
              "      <td>2</td>\n",
              "      <td>50</td>\n",
              "      <td></td>\n",
              "      <td>1</td>\n",
              "      <td>2</td>\n",
              "      <td>2</td>\n",
              "      <td>5</td>\n",
              "      <td>1</td>\n",
              "      <td>1</td>\n",
              "      <td>1</td>\n",
              "      <td>2</td>\n",
              "      <td>1</td>\n",
              "      <td>2</td>\n",
              "      <td>1</td>\n",
              "      <td>0</td>\n",
              "      <td>0</td>\n",
              "      <td>1</td>\n",
              "      <td>1</td>\n",
              "      <td>1</td>\n",
              "      <td>5</td>\n",
              "      <td>3</td>\n",
              "      <td></td>\n",
              "      <td>1</td>\n",
              "      <td>4</td>\n",
              "      <td></td>\n",
              "      <td>1500</td>\n",
              "      <td></td>\n",
              "      <td></td>\n",
              "      <td>4</td>\n",
              "      <td></td>\n",
              "      <td></td>\n",
              "      <td>02</td>\n",
              "      <td>1</td>\n",
              "      <td></td>\n",
              "      <td></td>\n",
              "      <td>1</td>\n",
              "      <td>1</td>\n",
              "      <td>1</td>\n",
              "      <td>1</td>\n",
              "      <td>1</td>\n",
              "      <td>2</td>\n",
              "      <td>2</td>\n",
              "      <td>2</td>\n",
              "      <td>1</td>\n",
              "      <td>1</td>\n",
              "      <td>2</td>\n",
              "      <td>2</td>\n",
              "      <td>2</td>\n",
              "      <td>2</td>\n",
              "      <td>4</td>\n",
              "      <td>3</td>\n",
              "      <td>1</td>\n",
              "      <td>1</td>\n",
              "      <td>26067</td>\n",
              "      <td>4</td>\n",
              "      <td>2</td>\n",
              "      <td>441</td>\n",
              "      <td>0008542</td>\n",
              "      <td>179</td>\n",
              "      <td>0</td>\n",
              "      <td>26</td>\n",
              "    </tr>\n",
              "    <tr>\n",
              "      <th>73275</th>\n",
              "      <td>2660748905</td>\n",
              "      <td>1</td>\n",
              "      <td>7</td>\n",
              "      <td>03</td>\n",
              "      <td>2</td>\n",
              "      <td>26</td>\n",
              "      <td></td>\n",
              "      <td>1</td>\n",
              "      <td>2</td>\n",
              "      <td>2</td>\n",
              "      <td>4</td>\n",
              "      <td>1</td>\n",
              "      <td>1</td>\n",
              "      <td>1</td>\n",
              "      <td>2</td>\n",
              "      <td>1</td>\n",
              "      <td>2</td>\n",
              "      <td>1</td>\n",
              "      <td>0</td>\n",
              "      <td>0</td>\n",
              "      <td>1</td>\n",
              "      <td>1</td>\n",
              "      <td>0</td>\n",
              "      <td>4</td>\n",
              "      <td>3</td>\n",
              "      <td></td>\n",
              "      <td>1</td>\n",
              "      <td>4</td>\n",
              "      <td></td>\n",
              "      <td>5000</td>\n",
              "      <td></td>\n",
              "      <td></td>\n",
              "      <td>1</td>\n",
              "      <td>1</td>\n",
              "      <td>5</td>\n",
              "      <td>01</td>\n",
              "      <td>1</td>\n",
              "      <td></td>\n",
              "      <td></td>\n",
              "      <td>1</td>\n",
              "      <td>1</td>\n",
              "      <td>1</td>\n",
              "      <td>1</td>\n",
              "      <td>1</td>\n",
              "      <td>2</td>\n",
              "      <td>1</td>\n",
              "      <td>2</td>\n",
              "      <td>1</td>\n",
              "      <td>1</td>\n",
              "      <td>2</td>\n",
              "      <td>2</td>\n",
              "      <td>2</td>\n",
              "      <td>2</td>\n",
              "      <td>4</td>\n",
              "      <td>1</td>\n",
              "      <td>3</td>\n",
              "      <td>1</td>\n",
              "      <td>26067</td>\n",
              "      <td>4</td>\n",
              "      <td>2</td>\n",
              "      <td>441</td>\n",
              "      <td>0008542</td>\n",
              "      <td>179</td>\n",
              "      <td>0</td>\n",
              "      <td>26</td>\n",
              "    </tr>\n",
              "    <tr>\n",
              "      <th>73276</th>\n",
              "      <td>2660748906</td>\n",
              "      <td>1</td>\n",
              "      <td>7</td>\n",
              "      <td>03</td>\n",
              "      <td>2</td>\n",
              "      <td></td>\n",
              "      <td>1</td>\n",
              "      <td>1</td>\n",
              "      <td>2</td>\n",
              "      <td>3</td>\n",
              "      <td>5</td>\n",
              "      <td>1</td>\n",
              "      <td>1</td>\n",
              "      <td>1</td>\n",
              "      <td>2</td>\n",
              "      <td>1</td>\n",
              "      <td>2</td>\n",
              "      <td>1</td>\n",
              "      <td>0</td>\n",
              "      <td>0</td>\n",
              "      <td>1</td>\n",
              "      <td>1</td>\n",
              "      <td>0</td>\n",
              "      <td>9</td>\n",
              "      <td>3</td>\n",
              "      <td></td>\n",
              "      <td>1</td>\n",
              "      <td>4</td>\n",
              "      <td></td>\n",
              "      <td>3000</td>\n",
              "      <td></td>\n",
              "      <td></td>\n",
              "      <td>1</td>\n",
              "      <td>1</td>\n",
              "      <td>5</td>\n",
              "      <td>01</td>\n",
              "      <td>1</td>\n",
              "      <td></td>\n",
              "      <td></td>\n",
              "      <td>1</td>\n",
              "      <td>1</td>\n",
              "      <td>1</td>\n",
              "      <td>1</td>\n",
              "      <td>1</td>\n",
              "      <td>2</td>\n",
              "      <td>2</td>\n",
              "      <td>2</td>\n",
              "      <td>1</td>\n",
              "      <td>1</td>\n",
              "      <td>2</td>\n",
              "      <td>2</td>\n",
              "      <td>2</td>\n",
              "      <td>2</td>\n",
              "      <td>1</td>\n",
              "      <td>1</td>\n",
              "      <td>0</td>\n",
              "      <td>1</td>\n",
              "      <td>26067</td>\n",
              "      <td>4</td>\n",
              "      <td>2</td>\n",
              "      <td>441</td>\n",
              "      <td>0008542</td>\n",
              "      <td>179</td>\n",
              "      <td>0</td>\n",
              "      <td>26</td>\n",
              "    </tr>\n",
              "  </tbody>\n",
              "</table>\n",
              "<p>2396 rows × 65 columns</p>\n",
              "</div>"
            ],
            "text/plain": [
              "         folioviv tipo_viv mat_pared  ... factor procaptar estado\n",
              "70881  2600002401        1         8  ...    468         0     26\n",
              "70882  2600002402        1         8  ...    468         0     26\n",
              "70883  2600002403        1         8  ...    468         0     26\n",
              "70884  2600002405        1         8  ...    468         0     26\n",
              "70885  2600002406        1         8  ...    468         0     26\n",
              "...           ...      ...       ...  ...    ...       ...    ...\n",
              "73272  2660748901        1         8  ...    179         0     26\n",
              "73273  2660748902        1         8  ...    179         0     26\n",
              "73274  2660748903        1         7  ...    179         0     26\n",
              "73275  2660748905        1         7  ...    179         0     26\n",
              "73276  2660748906        1         7  ...    179         0     26\n",
              "\n",
              "[2396 rows x 65 columns]"
            ]
          },
          "metadata": {
            "tags": []
          },
          "execution_count": 10
        }
      ]
    },
    {
      "cell_type": "markdown",
      "metadata": {
        "id": "YubQk2BuiAiQ"
      },
      "source": [
        "Ahora para este caso nos interesa hacer un primer análisis exploratorio de los datos. Para el caso de esta base de datos ya se encuentra en un formato \"tidy\" el cual nos indica que cada línea significa una observación de las diferentes variables en forma de columna.\n",
        "\n",
        "Vamos a comenzar con algo muy sencillo, ¿Qué porcentaje de las viviendas en Sonora utilizan la cocina como dormitorio?\n",
        "\n",
        "Localizamos la variable de interés, en este caso es \"cocina_dor\", esta variable tiene dos posibles resultados 1 = Si, 2 = No. En este caso nos interesa saber el porcentaje de viviendas que responden Si.\n",
        "\n",
        "Exploremos esta variable, ¿Qué tipo de variable es?"
      ]
    },
    {
      "cell_type": "code",
      "metadata": {
        "colab": {
          "base_uri": "https://localhost:8080/"
        },
        "id": "YzDVSATOgtL1",
        "outputId": "f420fad0-94e3-458e-aa93-7c600fc0d309"
      },
      "source": [
        "sonora['cocina_dor']"
      ],
      "execution_count": 11,
      "outputs": [
        {
          "output_type": "execute_result",
          "data": {
            "text/plain": [
              "70881    2\n",
              "70882    2\n",
              "70883    2\n",
              "70884    2\n",
              "70885    2\n",
              "        ..\n",
              "73272    2\n",
              "73273    2\n",
              "73274    2\n",
              "73275    2\n",
              "73276    2\n",
              "Name: cocina_dor, Length: 2396, dtype: object"
            ]
          },
          "metadata": {
            "tags": []
          },
          "execution_count": 11
        }
      ]
    },
    {
      "cell_type": "markdown",
      "metadata": {
        "id": "RaOABEJBgMuV"
      },
      "source": [
        "Podemos ver que es una variable tipo \"string\", vamos a preguntar ¿Qué porcentaje de las respuestas son \"1\"?"
      ]
    },
    {
      "cell_type": "code",
      "metadata": {
        "colab": {
          "base_uri": "https://localhost:8080/"
        },
        "id": "XM1lhTFCqa6k",
        "outputId": "88eeeab5-8a29-4e78-aa92-c2797486978c"
      },
      "source": [
        "sonora['cocina_dor'].value_counts()"
      ],
      "execution_count": 12,
      "outputs": [
        {
          "output_type": "execute_result",
          "data": {
            "text/plain": [
              "2    2131\n",
              "1     136\n",
              "      129\n",
              "Name: cocina_dor, dtype: int64"
            ]
          },
          "metadata": {
            "tags": []
          },
          "execution_count": 12
        }
      ]
    },
    {
      "cell_type": "markdown",
      "metadata": {
        "id": "-GA6dVWkrNQL"
      },
      "source": [
        "Vemos en este primer ejemplo que 294 entradas de 4,334 que contestaron la pregunta utilizan la cocina como dormitorio. Esto equivale al 6.78% del total.\n",
        "\n",
        "Contestemos ahora una segunda pregunta, ¿Qué porcentaje de las viviendas cuentan con luz eléctrica en Sonora? Para esto ahora analicemos la variable \"disp_elect\" esta variable cuenta con 5 posibles valores:\n",
        "1 = Luz del servicio público\n",
        "2 = Luz de planta partícular\n",
        "3 = Luz de panel solar\n",
        "4 = Luz de otra fuente\n",
        "5 = No tiene luz eléctrica\n",
        "\n",
        "Para este caso queremos saber específicamente cuáles viviendas NO cuentan con luz eléctrica por lo que vamos a buscar un valor específico. Las entradas que tengan como valor el 5."
      ]
    },
    {
      "cell_type": "code",
      "metadata": {
        "colab": {
          "base_uri": "https://localhost:8080/"
        },
        "id": "NTH3SCnVq8t5",
        "outputId": "f5c49ebb-efef-4f5f-cd19-35b654a40a7a"
      },
      "source": [
        "sonora.disp_elect[sonora.disp_elect == 5].count()"
      ],
      "execution_count": 13,
      "outputs": [
        {
          "output_type": "execute_result",
          "data": {
            "text/plain": [
              "0"
            ]
          },
          "metadata": {
            "tags": []
          },
          "execution_count": 13
        }
      ]
    },
    {
      "cell_type": "markdown",
      "metadata": {
        "id": "S1-o-R5c6xQ3"
      },
      "source": [
        "Sabemos que el total de las entradas para Sonora en esta base de datos es de 4,540 pero sabemos también por el análisis anterior que algunas veces hay no respuesta. Verifiquemos en este caso cual es el número de no respuesta para poder calcular un porcentaje de viviendas sin luz electríca."
      ]
    },
    {
      "cell_type": "code",
      "metadata": {
        "colab": {
          "base_uri": "https://localhost:8080/"
        },
        "id": "5xgkScEBwIP1",
        "outputId": "6d634db4-c651-49ce-8c22-279ab81c311b"
      },
      "source": [
        "sonora.disp_elect.isna().sum()"
      ],
      "execution_count": 14,
      "outputs": [
        {
          "output_type": "execute_result",
          "data": {
            "text/plain": [
              "0"
            ]
          },
          "metadata": {
            "tags": []
          },
          "execution_count": 14
        }
      ]
    },
    {
      "cell_type": "markdown",
      "metadata": {
        "id": "ApsNM1rA7l1R"
      },
      "source": [
        "En este caso todos las entradas tienen una respuesta a la pregunta de si cuenta con luz eléctrica, por lo que podemos calcular nuestro porcentaje utilizando un parametro en \"value_counts\" que se llama \"normalize\" poniendo su valor a verdadero."
      ]
    },
    {
      "cell_type": "code",
      "metadata": {
        "colab": {
          "base_uri": "https://localhost:8080/"
        },
        "id": "4yNYt2Rv6oe3",
        "outputId": "a97a1689-378a-4786-c1cc-d3bb08a16cb6"
      },
      "source": [
        "sonora.disp_elect.value_counts(normalize = True)"
      ],
      "execution_count": 15,
      "outputs": [
        {
          "output_type": "execute_result",
          "data": {
            "text/plain": [
              "1    0.984975\n",
              "5    0.006678\n",
              "4    0.006260\n",
              "3    0.001669\n",
              "2    0.000417\n",
              "Name: disp_elect, dtype: float64"
            ]
          },
          "metadata": {
            "tags": []
          },
          "execution_count": 15
        }
      ]
    },
    {
      "cell_type": "markdown",
      "metadata": {
        "id": "NeXy8WN279Rb"
      },
      "source": [
        "Podemos ver que el 0.8% de la población en Sonora no tiene luz eléctrica en su casa. O que el 99.2% de la población tiene luz eléctrica de alguna fuente."
      ]
    },
    {
      "cell_type": "markdown",
      "metadata": {
        "id": "W9wyMz1BvtoI"
      },
      "source": [
        "Sabemos que en Sonora se registran temperaturas muy altas durante varios meses del año. Es un lugar en donde se convierte en una primera necesidad el tener aire acondicionado. Para medir el porcentaje de viviendas con aire ancondicionado revisamos la variable \"aire_acond\" en dónde tenemos dos tipos de valor 1 = Si, 2 = No. Vamos a revisar qué porcentaje de las viviendas tienen aire acondicionado."
      ]
    },
    {
      "cell_type": "code",
      "metadata": {
        "colab": {
          "base_uri": "https://localhost:8080/"
        },
        "id": "KthE8kxm74F2",
        "outputId": "f323070f-81ba-466a-c09a-95229b435003"
      },
      "source": [
        "sonora.aire_acond.value_counts(normalize = True)"
      ],
      "execution_count": 16,
      "outputs": [
        {
          "output_type": "execute_result",
          "data": {
            "text/plain": [
              "1    0.747078\n",
              "2    0.252922\n",
              "Name: aire_acond, dtype: float64"
            ]
          },
          "metadata": {
            "tags": []
          },
          "execution_count": 16
        }
      ]
    },
    {
      "cell_type": "markdown",
      "metadata": {
        "id": "sE7WuzEZwikP"
      },
      "source": [
        "Buscaremos ahora el porcentaje en la ciudad de Hermosillo, para esto necesitamos el diccionario de municipios del estado y conocer como se construye la variable \"ubic_geo\" en la cual los primeros dos números son de la entidad federativa, los siguientes 3 números son la clave del municipio o localidad de acuerdo al  Catálogo de claves de entidades federativas, municipios y localidades.\n",
        "\n",
        "Para Hermosillo la clave del municipio es la 030."
      ]
    },
    {
      "cell_type": "code",
      "metadata": {
        "colab": {
          "base_uri": "https://localhost:8080/"
        },
        "id": "QMB6mOnDwHh4",
        "outputId": "e6cf04ed-8e10-4732-b634-236c0bf60076"
      },
      "source": [
        "sonora['municipio'] = sonora.ubica_geo.astype(str).str[2:5]\n",
        "hmo = sonora.loc[sonora['municipio'] == '030']"
      ],
      "execution_count": 17,
      "outputs": [
        {
          "output_type": "stream",
          "text": [
            "/usr/local/lib/python3.7/dist-packages/ipykernel_launcher.py:1: SettingWithCopyWarning:\n",
            "\n",
            "\n",
            "A value is trying to be set on a copy of a slice from a DataFrame.\n",
            "Try using .loc[row_indexer,col_indexer] = value instead\n",
            "\n",
            "See the caveats in the documentation: https://pandas.pydata.org/pandas-docs/stable/user_guide/indexing.html#returning-a-view-versus-a-copy\n",
            "\n"
          ],
          "name": "stderr"
        }
      ]
    },
    {
      "cell_type": "markdown",
      "metadata": {
        "id": "qdSc33y70e8i"
      },
      "source": [
        "Vamos a revisar el porcentaje de viviendas con aire acondicionado en Hermosillo y compararlo a nivel nacional."
      ]
    },
    {
      "cell_type": "code",
      "metadata": {
        "colab": {
          "base_uri": "https://localhost:8080/"
        },
        "id": "sOxkXrROy8zY",
        "outputId": "60cebb1e-d249-4ad3-d154-4c40c01e1976"
      },
      "source": [
        "hmo.aire_acond.value_counts(normalize = True)"
      ],
      "execution_count": 18,
      "outputs": [
        {
          "output_type": "execute_result",
          "data": {
            "text/plain": [
              "1    0.890728\n",
              "2    0.109272\n",
              "Name: aire_acond, dtype: float64"
            ]
          },
          "metadata": {
            "tags": []
          },
          "execution_count": 18
        }
      ]
    },
    {
      "cell_type": "code",
      "metadata": {
        "colab": {
          "base_uri": "https://localhost:8080/"
        },
        "id": "T8J2lrnDzXdg",
        "outputId": "f6e1d509-ed56-48db-ff2b-29fc344537c8"
      },
      "source": [
        "df.aire_acond.value_counts(normalize = True)"
      ],
      "execution_count": 19,
      "outputs": [
        {
          "output_type": "execute_result",
          "data": {
            "text/plain": [
              "2    0.789434\n",
              "1    0.210566\n",
              "Name: aire_acond, dtype: float64"
            ]
          },
          "metadata": {
            "tags": []
          },
          "execution_count": 19
        }
      ]
    },
    {
      "cell_type": "code",
      "metadata": {
        "id": "Ak_UHjE9024o"
      },
      "source": [
        "slrc = sonora.loc[sonora['municipio'] == '055']"
      ],
      "execution_count": 20,
      "outputs": []
    },
    {
      "cell_type": "code",
      "metadata": {
        "colab": {
          "base_uri": "https://localhost:8080/"
        },
        "id": "RX6hqJp-1Lv0",
        "outputId": "708ce7df-1314-40f9-cb15-a00de938bdd9"
      },
      "source": [
        "slrc.aire_acond.value_counts(normalize = True)"
      ],
      "execution_count": 21,
      "outputs": [
        {
          "output_type": "execute_result",
          "data": {
            "text/plain": [
              "1    0.922449\n",
              "2    0.077551\n",
              "Name: aire_acond, dtype: float64"
            ]
          },
          "metadata": {
            "tags": []
          },
          "execution_count": 21
        }
      ]
    },
    {
      "cell_type": "code",
      "metadata": {
        "id": "OD8nMQ8T1OZZ"
      },
      "source": [
        "aacond = pd.crosstab(sonora['municipio'], sonora['aire_acond'], normalize = 'index', )"
      ],
      "execution_count": 22,
      "outputs": []
    },
    {
      "cell_type": "code",
      "metadata": {
        "id": "Zo11Qi7VfPfy"
      },
      "source": [
        "aacond.sort_values(by = '1', inplace = True)"
      ],
      "execution_count": 23,
      "outputs": []
    },
    {
      "cell_type": "code",
      "metadata": {
        "colab": {
          "base_uri": "https://localhost:8080/",
          "height": 577
        },
        "id": "klWUW5Vc26Wt",
        "outputId": "02b07b36-de59-46c5-98b5-7498070d3c0c"
      },
      "source": [
        "aacond.plot(kind = 'bar', stacked = True, figsize = (20,10))"
      ],
      "execution_count": 24,
      "outputs": [
        {
          "output_type": "execute_result",
          "data": {
            "text/plain": [
              "<matplotlib.axes._subplots.AxesSubplot at 0x7f3540c7a3d0>"
            ]
          },
          "metadata": {
            "tags": []
          },
          "execution_count": 24
        },
        {
          "output_type": "display_data",
          "data": {
            "image/png": "[encoded data removed]",
            "text/plain": [
              "<Figure size 1440x720 with 1 Axes>"
            ]
          },
          "metadata": {
            "tags": [],
            "needs_background": "light"
          }
        }
      ]
    },
    {
      "cell_type": "code",
      "metadata": {
        "colab": {
          "base_uri": "https://localhost:8080/",
          "height": 570
        },
        "id": "FAag17Ao4Tvw",
        "outputId": "b0f8f7b1-0c01-4f1d-f501-0472def781db"
      },
      "source": [
        "aanac = pd.crosstab(df['estado'], df['aire_acond'], normalize = 'index', )\n",
        "aanac.sort_values(by = '1', inplace = True)\n",
        "aanac.plot(kind = 'bar', stacked = True, figsize = (20,10))"
      ],
      "execution_count": 25,
      "outputs": [
        {
          "output_type": "execute_result",
          "data": {
            "text/plain": [
              "<matplotlib.axes._subplots.AxesSubplot at 0x7f3539d1ab10>"
            ]
          },
          "metadata": {
            "tags": []
          },
          "execution_count": 25
        },
        {
          "output_type": "display_data",
          "data": {
            "image/png": "[encoded data removed]",
            "text/plain": [
              "<Figure size 1440x720 with 1 Axes>"
            ]
          },
          "metadata": {
            "tags": [],
            "needs_background": "light"
          }
        }
      ]
    },
    {
      "cell_type": "code",
      "metadata": {
        "colab": {
          "base_uri": "https://localhost:8080/",
          "height": 496
        },
        "id": "VCaaAdYJz8pY",
        "outputId": "6d09be7c-9611-4924-a932-02cc7557820b"
      },
      "source": [
        "temp2 = '/content/mex_admbnda_govmex_20210618_SHP/mex_admbnda_adm1_govmex_20210618.shp'\n",
        "map_data = gpd.read_file(temp2)\n",
        "map_data.head()"
      ],
      "execution_count": 26,
      "outputs": [
        {
          "output_type": "execute_result",
          "data": {
            "text/html": [
              "<div>\n",
              "<style scoped>\n",
              "    .dataframe tbody tr th:only-of-type {\n",
              "        vertical-align: middle;\n",
              "    }\n",
              "\n",
              "    .dataframe tbody tr th {\n",
              "        vertical-align: top;\n",
              "    }\n",
              "\n",
              "    .dataframe thead th {\n",
              "        text-align: right;\n",
              "    }\n",
              "</style>\n",
              "<table border=\"1\" class=\"dataframe\">\n",
              "  <thead>\n",
              "    <tr style=\"text-align: right;\">\n",
              "      <th></th>\n",
              "      <th>ADM1_ES</th>\n",
              "      <th>ADM1_PCODE</th>\n",
              "      <th>ADM1_REF</th>\n",
              "      <th>ADM1ALT1ES</th>\n",
              "      <th>ADM1ALT2ES</th>\n",
              "      <th>ADM0_ES</th>\n",
              "      <th>ADM0_PCODE</th>\n",
              "      <th>date</th>\n",
              "      <th>validOn</th>\n",
              "      <th>validTo</th>\n",
              "      <th>Shape_Leng</th>\n",
              "      <th>Shape_Area</th>\n",
              "      <th>geometry</th>\n",
              "    </tr>\n",
              "  </thead>\n",
              "  <tbody>\n",
              "    <tr>\n",
              "      <th>0</th>\n",
              "      <td>Aguascalientes</td>\n",
              "      <td>MX01</td>\n",
              "      <td>None</td>\n",
              "      <td>None</td>\n",
              "      <td>None</td>\n",
              "      <td>México</td>\n",
              "      <td>MX</td>\n",
              "      <td>2020-06-23</td>\n",
              "      <td>2021-06-18</td>\n",
              "      <td>None</td>\n",
              "      <td>3.993483</td>\n",
              "      <td>0.491151</td>\n",
              "      <td>POLYGON ((-102.28787 22.41649, -102.28753 22.4...</td>\n",
              "    </tr>\n",
              "    <tr>\n",
              "      <th>1</th>\n",
              "      <td>Baja California</td>\n",
              "      <td>MX02</td>\n",
              "      <td>None</td>\n",
              "      <td>None</td>\n",
              "      <td>None</td>\n",
              "      <td>México</td>\n",
              "      <td>MX</td>\n",
              "      <td>2020-06-23</td>\n",
              "      <td>2021-06-18</td>\n",
              "      <td>None</td>\n",
              "      <td>29.414983</td>\n",
              "      <td>6.851318</td>\n",
              "      <td>MULTIPOLYGON (((-114.12880 28.01224, -114.1283...</td>\n",
              "    </tr>\n",
              "    <tr>\n",
              "      <th>2</th>\n",
              "      <td>Baja California Sur</td>\n",
              "      <td>MX03</td>\n",
              "      <td>None</td>\n",
              "      <td>None</td>\n",
              "      <td>None</td>\n",
              "      <td>México</td>\n",
              "      <td>MX</td>\n",
              "      <td>2020-06-23</td>\n",
              "      <td>2021-06-18</td>\n",
              "      <td>None</td>\n",
              "      <td>51.783353</td>\n",
              "      <td>6.486020</td>\n",
              "      <td>MULTIPOLYGON (((-109.91027 22.87937, -109.9102...</td>\n",
              "    </tr>\n",
              "    <tr>\n",
              "      <th>3</th>\n",
              "      <td>Campeche</td>\n",
              "      <td>MX04</td>\n",
              "      <td>None</td>\n",
              "      <td>None</td>\n",
              "      <td>None</td>\n",
              "      <td>México</td>\n",
              "      <td>MX</td>\n",
              "      <td>2020-06-23</td>\n",
              "      <td>2021-06-18</td>\n",
              "      <td>None</td>\n",
              "      <td>27.833408</td>\n",
              "      <td>4.757845</td>\n",
              "      <td>MULTIPOLYGON (((-91.55007 18.28726, -91.55142 ...</td>\n",
              "    </tr>\n",
              "    <tr>\n",
              "      <th>4</th>\n",
              "      <td>Chiapas</td>\n",
              "      <td>MX07</td>\n",
              "      <td>None</td>\n",
              "      <td>None</td>\n",
              "      <td>None</td>\n",
              "      <td>México</td>\n",
              "      <td>MX</td>\n",
              "      <td>2020-06-23</td>\n",
              "      <td>2021-06-18</td>\n",
              "      <td>None</td>\n",
              "      <td>26.835058</td>\n",
              "      <td>6.150488</td>\n",
              "      <td>MULTIPOLYGON (((-92.77034 15.15128, -92.77107 ...</td>\n",
              "    </tr>\n",
              "  </tbody>\n",
              "</table>\n",
              "</div>"
            ],
            "text/plain": [
              "               ADM1_ES  ...                                           geometry\n",
              "0       Aguascalientes  ...  POLYGON ((-102.28787 22.41649, -102.28753 22.4...\n",
              "1      Baja California  ...  MULTIPOLYGON (((-114.12880 28.01224, -114.1283...\n",
              "2  Baja California Sur  ...  MULTIPOLYGON (((-109.91027 22.87937, -109.9102...\n",
              "3             Campeche  ...  MULTIPOLYGON (((-91.55007 18.28726, -91.55142 ...\n",
              "4              Chiapas  ...  MULTIPOLYGON (((-92.77034 15.15128, -92.77107 ...\n",
              "\n",
              "[5 rows x 13 columns]"
            ]
          },
          "metadata": {
            "tags": []
          },
          "execution_count": 26
        }
      ]
    },
    {
      "cell_type": "code",
      "metadata": {
        "colab": {
          "base_uri": "https://localhost:8080/",
          "height": 464
        },
        "id": "vaxubTss4Ypm",
        "outputId": "28aae970-4386-457e-d180-e820212ed2f1"
      },
      "source": [
        "fig, ax = plt.subplots(figsize = (10,10))\n",
        "ax.set_title('Estados en México', pad = 20, fontdict = {'fontsize':20, 'color': '#4873ab'})\n",
        "ax.set_xlabel('Longitud')\n",
        "ax.set_ylabel('Latitud')\n",
        "map_data.plot(cmap='plasma', ax = ax, zorder = 5)"
      ],
      "execution_count": 28,
      "outputs": [
        {
          "output_type": "execute_result",
          "data": {
            "text/plain": [
              "<matplotlib.axes._subplots.AxesSubplot at 0x7f3535702b50>"
            ]
          },
          "metadata": {
            "tags": []
          },
          "execution_count": 28
        },
        {
          "output_type": "display_data",
          "data": {
            "image/png": "[encoded data removed]",
            "text/plain": [
              "<Figure size 720x720 with 1 Axes>"
            ]
          },
          "metadata": {
            "tags": [],
            "needs_background": "light"
          }
        }
      ]
    },
    {
      "cell_type": "code",
      "metadata": {
        "colab": {
          "base_uri": "https://localhost:8080/"
        },
        "id": "N1JaxpUdA3-B",
        "outputId": "e5b8919f-3ec3-4226-f754-bc576d665f4f"
      },
      "source": [
        "urldicedo = 'https://gaia.inegi.org.mx/wscatgeo/mgee/'\n",
        "dicedo = urlopen(urldicedo)\n",
        "dicedo1 = json.loads(dicedo.read())\n",
        "dicedo1"
      ],
      "execution_count": 29,
      "outputs": [
        {
          "output_type": "execute_result",
          "data": {
            "text/plain": [
              "{'datos': [{'cve_agee': '01',\n",
              "   'nom_abrev': 'Ags.',\n",
              "   'nom_agee': 'Aguascalientes',\n",
              "   'pob': '1425607',\n",
              "   'pob_fem': '728924',\n",
              "   'pob_mas': '696683',\n",
              "   'viv': '386671'},\n",
              "  {'cve_agee': '02',\n",
              "   'nom_abrev': 'BC',\n",
              "   'nom_agee': 'Baja California',\n",
              "   'pob': '3769020',\n",
              "   'pob_fem': '1868431',\n",
              "   'pob_mas': '1900589',\n",
              "   'viv': '1149563'},\n",
              "  {'cve_agee': '03',\n",
              "   'nom_abrev': 'BCS',\n",
              "   'nom_agee': 'Baja California Sur',\n",
              "   'pob': '798447',\n",
              "   'pob_fem': '392568',\n",
              "   'pob_mas': '405879',\n",
              "   'viv': '240660'},\n",
              "  {'cve_agee': '04',\n",
              "   'nom_abrev': 'Camp.',\n",
              "   'nom_agee': 'Campeche',\n",
              "   'pob': '928363',\n",
              "   'pob_fem': '471424',\n",
              "   'pob_mas': '456939',\n",
              "   'viv': '260824'},\n",
              "  {'cve_agee': '05',\n",
              "   'nom_abrev': 'Coah.',\n",
              "   'nom_agee': 'Coahuila de Zaragoza',\n",
              "   'pob': '3146771',\n",
              "   'pob_fem': '1583102',\n",
              "   'pob_mas': '1563669',\n",
              "   'viv': '901249'},\n",
              "  {'cve_agee': '06',\n",
              "   'nom_abrev': 'Col.',\n",
              "   'nom_agee': 'Colima',\n",
              "   'pob': '731391',\n",
              "   'pob_fem': '370769',\n",
              "   'pob_mas': '360622',\n",
              "   'viv': '227050'},\n",
              "  {'cve_agee': '07',\n",
              "   'nom_abrev': 'Chis.',\n",
              "   'nom_agee': 'Chiapas',\n",
              "   'pob': '5543828',\n",
              "   'pob_fem': '2837881',\n",
              "   'pob_mas': '2705947',\n",
              "   'viv': '1351630'},\n",
              "  {'cve_agee': '08',\n",
              "   'nom_abrev': 'Chih.',\n",
              "   'nom_agee': 'Chihuahua',\n",
              "   'pob': '3741869',\n",
              "   'pob_fem': '1888047',\n",
              "   'pob_mas': '1853822',\n",
              "   'viv': '1146915'},\n",
              "  {'cve_agee': '09',\n",
              "   'nom_abrev': 'CDMX',\n",
              "   'nom_agee': 'Ciudad de México',\n",
              "   'pob': '9209944',\n",
              "   'pob_fem': '4805017',\n",
              "   'pob_mas': '4404927',\n",
              "   'viv': '2757433'},\n",
              "  {'cve_agee': '10',\n",
              "   'nom_abrev': 'Dgo.',\n",
              "   'nom_agee': 'Durango',\n",
              "   'pob': '1832650',\n",
              "   'pob_fem': '927784',\n",
              "   'pob_mas': '904866',\n",
              "   'viv': '493989'},\n",
              "  {'cve_agee': '11',\n",
              "   'nom_abrev': 'Gto.',\n",
              "   'nom_agee': 'Guanajuato',\n",
              "   'pob': '6166934',\n",
              "   'pob_fem': '3170480',\n",
              "   'pob_mas': '2996454',\n",
              "   'viv': '1587234'},\n",
              "  {'cve_agee': '12',\n",
              "   'nom_abrev': 'Gro.',\n",
              "   'nom_agee': 'Guerrero',\n",
              "   'pob': '3540685',\n",
              "   'pob_fem': '1840073',\n",
              "   'pob_mas': '1700612',\n",
              "   'viv': '942509'},\n",
              "  {'cve_agee': '13',\n",
              "   'nom_abrev': 'Hgo.',\n",
              "   'nom_agee': 'Hidalgo',\n",
              "   'pob': '3082841',\n",
              "   'pob_fem': '1601462',\n",
              "   'pob_mas': '1481379',\n",
              "   'viv': '857462'},\n",
              "  {'cve_agee': '14',\n",
              "   'nom_abrev': 'Jal.',\n",
              "   'nom_agee': 'Jalisco',\n",
              "   'pob': '8348151',\n",
              "   'pob_fem': '4249696',\n",
              "   'pob_mas': '4098455',\n",
              "   'viv': '2332218'},\n",
              "  {'cve_agee': '15',\n",
              "   'nom_abrev': 'Mex.',\n",
              "   'nom_agee': 'México',\n",
              "   'pob': '16992418',\n",
              "   'pob_fem': '8741123',\n",
              "   'pob_mas': '8251295',\n",
              "   'viv': '4569533'},\n",
              "  {'cve_agee': '16',\n",
              "   'nom_abrev': 'Mich.',\n",
              "   'nom_agee': 'Michoacán de Ocampo',\n",
              "   'pob': '4748846',\n",
              "   'pob_fem': '2442505',\n",
              "   'pob_mas': '2306341',\n",
              "   'viv': '1285469'},\n",
              "  {'cve_agee': '17',\n",
              "   'nom_abrev': 'Mor.',\n",
              "   'nom_agee': 'Morelos',\n",
              "   'pob': '1971520',\n",
              "   'pob_fem': '1020673',\n",
              "   'pob_mas': '950847',\n",
              "   'viv': '560941'},\n",
              "  {'cve_agee': '18',\n",
              "   'nom_abrev': 'Nay.',\n",
              "   'nom_agee': 'Nayarit',\n",
              "   'pob': '1235456',\n",
              "   'pob_fem': '623178',\n",
              "   'pob_mas': '612278',\n",
              "   'viv': '361596'},\n",
              "  {'cve_agee': '19',\n",
              "   'nom_abrev': 'NL',\n",
              "   'nom_agee': 'Nuevo León',\n",
              "   'pob': '5784442',\n",
              "   'pob_fem': '2893492',\n",
              "   'pob_mas': '2890950',\n",
              "   'viv': '1655690'},\n",
              "  {'cve_agee': '20',\n",
              "   'nom_abrev': 'Oax.',\n",
              "   'nom_agee': 'Oaxaca',\n",
              "   'pob': '4132148',\n",
              "   'pob_fem': '2157305',\n",
              "   'pob_mas': '1974843',\n",
              "   'viv': '1126544'},\n",
              "  {'cve_agee': '21',\n",
              "   'nom_abrev': 'Pue.',\n",
              "   'nom_agee': 'Puebla',\n",
              "   'pob': '6583278',\n",
              "   'pob_fem': '3423163',\n",
              "   'pob_mas': '3160115',\n",
              "   'viv': '1713865'},\n",
              "  {'cve_agee': '22',\n",
              "   'nom_abrev': 'Qro.',\n",
              "   'nom_agee': 'Querétaro',\n",
              "   'pob': '2368467',\n",
              "   'pob_fem': '1211647',\n",
              "   'pob_mas': '1156820',\n",
              "   'viv': '668771'},\n",
              "  {'cve_agee': '23',\n",
              "   'nom_abrev': 'Q. Roo',\n",
              "   'nom_agee': 'Quintana Roo',\n",
              "   'pob': '1857985',\n",
              "   'pob_fem': '921206',\n",
              "   'pob_mas': '936779',\n",
              "   'viv': '575635'},\n",
              "  {'cve_agee': '24',\n",
              "   'nom_abrev': 'SLP',\n",
              "   'nom_agee': 'San Luis Potosí',\n",
              "   'pob': '2822255',\n",
              "   'pob_fem': '1449804',\n",
              "   'pob_mas': '1372451',\n",
              "   'viv': '775016'},\n",
              "  {'cve_agee': '25',\n",
              "   'nom_abrev': 'Sin.',\n",
              "   'nom_agee': 'Sinaloa',\n",
              "   'pob': '3026943',\n",
              "   'pob_fem': '1532128',\n",
              "   'pob_mas': '1494815',\n",
              "   'viv': '855271'},\n",
              "  {'cve_agee': '26',\n",
              "   'nom_abrev': 'Son.',\n",
              "   'nom_agee': 'Sonora',\n",
              "   'pob': '2944840',\n",
              "   'pob_fem': '1472643',\n",
              "   'pob_mas': '1472197',\n",
              "   'viv': '876826'},\n",
              "  {'cve_agee': '27',\n",
              "   'nom_abrev': 'Tab.',\n",
              "   'nom_agee': 'Tabasco',\n",
              "   'pob': '2402598',\n",
              "   'pob_fem': '1228927',\n",
              "   'pob_mas': '1173671',\n",
              "   'viv': '669414'},\n",
              "  {'cve_agee': '28',\n",
              "   'nom_abrev': 'Tamps.',\n",
              "   'nom_agee': 'Tamaulipas',\n",
              "   'pob': '3527735',\n",
              "   'pob_fem': '1791595',\n",
              "   'pob_mas': '1736140',\n",
              "   'viv': '1069380'},\n",
              "  {'cve_agee': '29',\n",
              "   'nom_abrev': 'Tlax.',\n",
              "   'nom_agee': 'Tlaxcala',\n",
              "   'pob': '1342977',\n",
              "   'pob_fem': '693083',\n",
              "   'pob_mas': '649894',\n",
              "   'viv': '341656'},\n",
              "  {'cve_agee': '30',\n",
              "   'nom_abrev': 'Ver.',\n",
              "   'nom_agee': 'Veracruz de Ignacio de la Llave',\n",
              "   'pob': '8062579',\n",
              "   'pob_fem': '4190805',\n",
              "   'pob_mas': '3871774',\n",
              "   'viv': '2391262'},\n",
              "  {'cve_agee': '31',\n",
              "   'nom_abrev': 'Yuc.',\n",
              "   'nom_agee': 'Yucatán',\n",
              "   'pob': '2320898',\n",
              "   'pob_fem': '1180619',\n",
              "   'pob_mas': '1140279',\n",
              "   'viv': '658351'},\n",
              "  {'cve_agee': '32',\n",
              "   'nom_abrev': 'Zac.',\n",
              "   'nom_agee': 'Zacatecas',\n",
              "   'pob': '1622138',\n",
              "   'pob_fem': '831080',\n",
              "   'pob_mas': '791058',\n",
              "   'viv': '442835'}],\n",
              " 'metadatos': {'Fuente_informacion_estadistica': 'INEGI. Censo de Población y Vivienda, 2020'},\n",
              " 'numReg': 32}"
            ]
          },
          "metadata": {
            "tags": []
          },
          "execution_count": 29
        }
      ]
    },
    {
      "cell_type": "code",
      "metadata": {
        "colab": {
          "base_uri": "https://localhost:8080/",
          "height": 307
        },
        "id": "v6lDyBWk2OvE",
        "outputId": "e2503b92-d703-4a0b-f543-9d317c2984f9"
      },
      "source": [
        "dfdicedo = pd.json_normalize(dicedo1, record_path= ['nom_agee'])"
      ],
      "execution_count": 32,
      "outputs": [
        {
          "output_type": "error",
          "ename": "KeyError",
          "evalue": "ignored",
          "traceback": [
            "\u001b[0;31m---------------------------------------------------------------------------\u001b[0m",
            "\u001b[0;31mKeyError\u001b[0m                                  Traceback (most recent call last)",
            "\u001b[0;32m<ipython-input-32-dfd76afe6f30>\u001b[0m in \u001b[0;36m<module>\u001b[0;34m()\u001b[0m\n\u001b[0;32m----> 1\u001b[0;31m \u001b[0mdfdicedo\u001b[0m \u001b[0;34m=\u001b[0m \u001b[0mpd\u001b[0m\u001b[0;34m.\u001b[0m\u001b[0mjson_normalize\u001b[0m\u001b[0;34m(\u001b[0m\u001b[0mdicedo1\u001b[0m\u001b[0;34m,\u001b[0m \u001b[0mrecord_path\u001b[0m\u001b[0;34m=\u001b[0m \u001b[0;34m[\u001b[0m\u001b[0;34m'nom_agee'\u001b[0m\u001b[0;34m]\u001b[0m\u001b[0;34m)\u001b[0m\u001b[0;34m\u001b[0m\u001b[0;34m\u001b[0m\u001b[0m\n\u001b[0m",
            "\u001b[0;32m/usr/local/lib/python3.7/dist-packages/pandas/io/json/_normalize.py\u001b[0m in \u001b[0;36m_json_normalize\u001b[0;34m(data, record_path, meta, meta_prefix, record_prefix, errors, sep, max_level)\u001b[0m\n\u001b[1;32m    334\u001b[0m                 \u001b[0mrecords\u001b[0m\u001b[0;34m.\u001b[0m\u001b[0mextend\u001b[0m\u001b[0;34m(\u001b[0m\u001b[0mrecs\u001b[0m\u001b[0;34m)\u001b[0m\u001b[0;34m\u001b[0m\u001b[0;34m\u001b[0m\u001b[0m\n\u001b[1;32m    335\u001b[0m \u001b[0;34m\u001b[0m\u001b[0m\n\u001b[0;32m--> 336\u001b[0;31m     \u001b[0m_recursive_extract\u001b[0m\u001b[0;34m(\u001b[0m\u001b[0mdata\u001b[0m\u001b[0;34m,\u001b[0m \u001b[0mrecord_path\u001b[0m\u001b[0;34m,\u001b[0m \u001b[0;34m{\u001b[0m\u001b[0;34m}\u001b[0m\u001b[0;34m,\u001b[0m \u001b[0mlevel\u001b[0m\u001b[0;34m=\u001b[0m\u001b[0;36m0\u001b[0m\u001b[0;34m)\u001b[0m\u001b[0;34m\u001b[0m\u001b[0;34m\u001b[0m\u001b[0m\n\u001b[0m\u001b[1;32m    337\u001b[0m \u001b[0;34m\u001b[0m\u001b[0m\n\u001b[1;32m    338\u001b[0m     \u001b[0mresult\u001b[0m \u001b[0;34m=\u001b[0m \u001b[0mDataFrame\u001b[0m\u001b[0;34m(\u001b[0m\u001b[0mrecords\u001b[0m\u001b[0;34m)\u001b[0m\u001b[0;34m\u001b[0m\u001b[0;34m\u001b[0m\u001b[0m\n",
            "\u001b[0;32m/usr/local/lib/python3.7/dist-packages/pandas/io/json/_normalize.py\u001b[0m in \u001b[0;36m_recursive_extract\u001b[0;34m(data, path, seen_meta, level)\u001b[0m\n\u001b[1;32m    307\u001b[0m         \u001b[0;32melse\u001b[0m\u001b[0;34m:\u001b[0m\u001b[0;34m\u001b[0m\u001b[0;34m\u001b[0m\u001b[0m\n\u001b[1;32m    308\u001b[0m             \u001b[0;32mfor\u001b[0m \u001b[0mobj\u001b[0m \u001b[0;32min\u001b[0m \u001b[0mdata\u001b[0m\u001b[0;34m:\u001b[0m\u001b[0;34m\u001b[0m\u001b[0;34m\u001b[0m\u001b[0m\n\u001b[0;32m--> 309\u001b[0;31m                 \u001b[0mrecs\u001b[0m \u001b[0;34m=\u001b[0m \u001b[0m_pull_records\u001b[0m\u001b[0;34m(\u001b[0m\u001b[0mobj\u001b[0m\u001b[0;34m,\u001b[0m \u001b[0mpath\u001b[0m\u001b[0;34m[\u001b[0m\u001b[0;36m0\u001b[0m\u001b[0;34m]\u001b[0m\u001b[0;34m)\u001b[0m\u001b[0;34m\u001b[0m\u001b[0;34m\u001b[0m\u001b[0m\n\u001b[0m\u001b[1;32m    310\u001b[0m                 recs = [\n\u001b[1;32m    311\u001b[0m                     \u001b[0mnested_to_record\u001b[0m\u001b[0;34m(\u001b[0m\u001b[0mr\u001b[0m\u001b[0;34m,\u001b[0m \u001b[0msep\u001b[0m\u001b[0;34m=\u001b[0m\u001b[0msep\u001b[0m\u001b[0;34m,\u001b[0m \u001b[0mmax_level\u001b[0m\u001b[0;34m=\u001b[0m\u001b[0mmax_level\u001b[0m\u001b[0;34m)\u001b[0m\u001b[0;34m\u001b[0m\u001b[0;34m\u001b[0m\u001b[0m\n",
            "\u001b[0;32m/usr/local/lib/python3.7/dist-packages/pandas/io/json/_normalize.py\u001b[0m in \u001b[0;36m_pull_records\u001b[0;34m(js, spec)\u001b[0m\n\u001b[1;32m    246\u001b[0m         \u001b[0;32mif\u001b[0m \u001b[0mhas\u001b[0m \u001b[0mnon\u001b[0m \u001b[0miterable\u001b[0m \u001b[0mvalue\u001b[0m\u001b[0;34m.\u001b[0m\u001b[0;34m\u001b[0m\u001b[0;34m\u001b[0m\u001b[0m\n\u001b[1;32m    247\u001b[0m         \"\"\"\n\u001b[0;32m--> 248\u001b[0;31m         \u001b[0mresult\u001b[0m \u001b[0;34m=\u001b[0m \u001b[0m_pull_field\u001b[0m\u001b[0;34m(\u001b[0m\u001b[0mjs\u001b[0m\u001b[0;34m,\u001b[0m \u001b[0mspec\u001b[0m\u001b[0;34m)\u001b[0m\u001b[0;34m\u001b[0m\u001b[0;34m\u001b[0m\u001b[0m\n\u001b[0m\u001b[1;32m    249\u001b[0m \u001b[0;34m\u001b[0m\u001b[0m\n\u001b[1;32m    250\u001b[0m         \u001b[0;31m# GH 31507 GH 30145, GH 26284 if result is not list, raise TypeError if not\u001b[0m\u001b[0;34m\u001b[0m\u001b[0;34m\u001b[0m\u001b[0;34m\u001b[0m\u001b[0m\n",
            "\u001b[0;32m/usr/local/lib/python3.7/dist-packages/pandas/io/json/_normalize.py\u001b[0m in \u001b[0;36m_pull_field\u001b[0;34m(js, spec)\u001b[0m\n\u001b[1;32m    237\u001b[0m                 \u001b[0mresult\u001b[0m \u001b[0;34m=\u001b[0m \u001b[0mresult\u001b[0m\u001b[0;34m[\u001b[0m\u001b[0mfield\u001b[0m\u001b[0;34m]\u001b[0m\u001b[0;34m\u001b[0m\u001b[0;34m\u001b[0m\u001b[0m\n\u001b[1;32m    238\u001b[0m         \u001b[0;32melse\u001b[0m\u001b[0;34m:\u001b[0m\u001b[0;34m\u001b[0m\u001b[0;34m\u001b[0m\u001b[0m\n\u001b[0;32m--> 239\u001b[0;31m             \u001b[0mresult\u001b[0m \u001b[0;34m=\u001b[0m \u001b[0mresult\u001b[0m\u001b[0;34m[\u001b[0m\u001b[0mspec\u001b[0m\u001b[0;34m]\u001b[0m\u001b[0;34m\u001b[0m\u001b[0;34m\u001b[0m\u001b[0m\n\u001b[0m\u001b[1;32m    240\u001b[0m         \u001b[0;32mreturn\u001b[0m \u001b[0mresult\u001b[0m\u001b[0;34m\u001b[0m\u001b[0;34m\u001b[0m\u001b[0m\n\u001b[1;32m    241\u001b[0m \u001b[0;34m\u001b[0m\u001b[0m\n",
            "\u001b[0;31mKeyError\u001b[0m: 'nom_agee'"
          ]
        }
      ]
    },
    {
      "cell_type": "code",
      "metadata": {
        "id": "GErI2fvA4A_Z"
      },
      "source": [
        ""
      ],
      "execution_count": null,
      "outputs": []
    },
    {
      "cell_type": "code",
      "metadata": {
        "id": "7nQL784HLCeP"
      },
      "source": [
        "aapivot = pd.crosstab(aageom['estado_name'], aageom['aire_acond'], normalize = 'index')"
      ],
      "execution_count": null,
      "outputs": []
    }
  ]
}